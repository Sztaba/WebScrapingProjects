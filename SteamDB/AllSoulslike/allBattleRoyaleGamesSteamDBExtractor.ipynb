{
 "cells": [
  {
   "cell_type": "code",
   "execution_count": 6,
   "metadata": {},
   "outputs": [],
   "source": [
    "from bs4 import BeautifulSoup\n",
    "import json\n",
    "\n",
    "with open('Data/Tags_Battle Royale_SteamDB.html', 'r', encoding='utf-8') as f:\n",
    "    games = f.read()"
   ]
  },
  {
   "cell_type": "code",
   "execution_count": 7,
   "metadata": {},
   "outputs": [],
   "source": [
    "soup = BeautifulSoup(games, 'html.parser')\n",
    "\n",
    "games_by_date = {}\n",
    "\n",
    "for tr in soup.find('tbody').find_all('tr', class_='app'):\n",
    "    splitted_date = tr.find_all('td')[6].text.strip().split()\n",
    "    date = splitted_date[len(splitted_date) - 1]\n",
    "    \n",
    "    if date in games_by_date:\n",
    "        games_by_date[date] += 1\n",
    "    else:\n",
    "        games_by_date[date] = 1"
   ]
  },
  {
   "cell_type": "code",
   "execution_count": 12,
   "metadata": {},
   "outputs": [
    {
     "name": "stdout",
     "output_type": "stream",
     "text": [
      "<tr class=\"app\" data-appid=\"1530\" data-capsule=\"capsule_231x87.jpg?t=1724875914\">\n",
      "<td data-sort=\"1530\">\n",
      "<a class=\"info-icon\" href=\"https://store.steampowered.com/app/1530/?curator_clanid=4777282&amp;utm_source=SteamDB\" target=\"_blank\" title=\"Store\"></a>\n",
      "</td>\n",
      "<td class=\"applogo\">\n",
      "<a aria-hidden=\"true\" href=\"/app/1530/\" tabindex=\"-1\" target=\"_blank\">\n",
      "<img alt=\"\" src=\"/static/img/applogo.svg\"/>\n",
      "</a>\n",
      "</td>\n",
      "<td>\n",
      "<a class=\"b\" href=\"/app/1530/\" target=\"_blank\">Multiwinia</a>\n",
      "<div class=\"subinfo\">\n",
      "</div>\n",
      "</td>\n",
      "<td data-sort=\"0\"></td>\n",
      "<td data-sort=\"4599\">45,99zł</td>\n",
      "<td data-sort=\"77.06\">77.06%</td>\n",
      "<td data-sort=\"1221782400\">Sep 2008</td>\n",
      "<td data-sort=\"960\">960</td>\n",
      "<td class=\"green\" data-sort=\"0\">0</td>\n",
      "<td data-sort=\"102\">102</td>\n",
      "</tr>\n"
     ]
    }
   ],
   "source": [
    "for tr in soup.find('tbody').find_all('tr', class_='app'):\n",
    "    splitted_date = tr.find_all('td')[6].text.strip().split()\n",
    "    date = splitted_date[len(splitted_date) - 1]\n",
    "    \n",
    "    if date == \"2008\":\n",
    "        print(tr)"
   ]
  },
  {
   "cell_type": "code",
   "execution_count": 9,
   "metadata": {},
   "outputs": [],
   "source": [
    "# save games dictionary to json\n",
    "with open('Data/battle_royale_games.json', 'w', encoding='utf-8') as f:\n",
    "    json.dump(games_by_date, f)"
   ]
  }
 ],
 "metadata": {
  "kernelspec": {
   "display_name": "Python 3",
   "language": "python",
   "name": "python3"
  },
  "language_info": {
   "codemirror_mode": {
    "name": "ipython",
    "version": 3
   },
   "file_extension": ".py",
   "mimetype": "text/x-python",
   "name": "python",
   "nbconvert_exporter": "python",
   "pygments_lexer": "ipython3",
   "version": "3.12.0"
  }
 },
 "nbformat": 4,
 "nbformat_minor": 2
}
