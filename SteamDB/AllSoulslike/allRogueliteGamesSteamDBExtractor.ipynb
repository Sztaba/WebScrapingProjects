{
 "cells": [
  {
   "cell_type": "code",
   "execution_count": 17,
   "metadata": {},
   "outputs": [],
   "source": [
    "from bs4 import BeautifulSoup\n",
    "import json\n",
    "\n",
    "with open('Data/Tags_Rogue-lite_SteamDB.html', 'r', encoding='utf-8') as f:\n",
    "    games = f.read()"
   ]
  },
  {
   "cell_type": "code",
   "execution_count": 18,
   "metadata": {},
   "outputs": [],
   "source": [
    "soup = BeautifulSoup(games, 'html.parser')\n",
    "\n",
    "games_by_date = {}\n",
    "\n",
    "for tr in soup.find('tbody').find_all('tr', class_='app'):\n",
    "    splitted_date = tr.find_all('td')[6].text.strip().split()\n",
    "    date = splitted_date[len(splitted_date) - 1]\n",
    "    \n",
    "    if date in games_by_date:\n",
    "        games_by_date[date] += 1\n",
    "    else:\n",
    "        games_by_date[date] = 1"
   ]
  },
  {
   "cell_type": "code",
   "execution_count": null,
   "metadata": {},
   "outputs": [],
   "source": [
    "for tr in soup.find('tbody').find_all('tr', class_='app'):\n",
    "    splitted_date = tr.find_all('td')[6].text.strip().split()\n",
    "    date = splitted_date[len(splitted_date) - 1]\n",
    "    \n",
    "    if date == \"\":\n",
    "        print(tr)"
   ]
  },
  {
   "cell_type": "code",
   "execution_count": 14,
   "metadata": {},
   "outputs": [],
   "source": [
    "# save games dictionary to json\n",
    "with open('Data/rogue_lite_games.json', 'w', encoding='utf-8') as f:\n",
    "    json.dump(games_by_date, f)"
   ]
  }
 ],
 "metadata": {
  "kernelspec": {
   "display_name": "Python 3",
   "language": "python",
   "name": "python3"
  },
  "language_info": {
   "codemirror_mode": {
    "name": "ipython",
    "version": 3
   },
   "file_extension": ".py",
   "mimetype": "text/x-python",
   "name": "python",
   "nbconvert_exporter": "python",
   "pygments_lexer": "ipython3",
   "version": "3.12.0"
  }
 },
 "nbformat": 4,
 "nbformat_minor": 2
}
