{
 "cells": [
  {
   "cell_type": "code",
   "execution_count": 1,
   "metadata": {},
   "outputs": [],
   "source": [
    "from bs4 import BeautifulSoup\n",
    "import json\n",
    "import re\n",
    "\n",
    "with open('Data/bookmarks_19.04.2024.html', 'r', encoding='utf-8') as f:\n",
    "    bookmarksHtml = f.read()"
   ]
  },
  {
   "cell_type": "code",
   "execution_count": 6,
   "metadata": {},
   "outputs": [],
   "source": [
    "soup = BeautifulSoup(bookmarksHtml, 'html.parser')\n",
    "\n",
    "# extract <a> tags (games/bookmarks) within certain folders ([\"Gry na PS5  \", \"indyki\"])\n",
    "target_text = [\"Gry na PS5  \", \"indyki\"]\n",
    "dl_tags = []\n",
    "for h3_tag in soup.find_all('h3'):\n",
    "    if h3_tag.text in target_text:\n",
    "        dl_tag = h3_tag.find_next_sibling('dl')\n",
    "        if dl_tag:\n",
    "            dl_tags.append(dl_tag)\n",
    "\n",
    "#  exclude bookmarks from other folders within extracted folders ([\"notReleased\"])\n",
    "target_text = [\"notReleased\"]\n",
    "dl_tags2 = []\n",
    "for tag in dl_tags:\n",
    "    for h3_tag in tag.find_all('h3'):\n",
    "        if h3_tag.text not in target_text:\n",
    "            dl_tag = h3_tag.find_next_sibling('dl')\n",
    "            if dl_tag:\n",
    "                dl_tags2.append(dl_tag)\n",
    "\n",
    "# extract names of found bookmarks\n",
    "a_tags = []\n",
    "for tag in dl_tags2:\n",
    "    a = tag.find_all(\"a\")\n",
    "    a_tags.extend([e.text for e in a])"
   ]
  },
  {
   "cell_type": "code",
   "execution_count": 8,
   "metadata": {},
   "outputs": [],
   "source": [
    "games_dict = {}\n",
    "titles = []\n",
    "systems = []\n",
    "\n",
    "# excluding only title and system for each game saved as GryOnline.pl subsite (examples: A Plague Tale: Requiem PS5 | GRYOnline.pl; Uncharted: Kolekcja Dziedzictwo złodziei, Uncharted: Legacy of Thieves Collection PC, PS5 | GRYOnline.pl)\n",
    "for tag_text in a_tags:\n",
    "    parts = tag_text.split('|')\n",
    "    if len(parts) == 2:\n",
    "        extracted_part = parts[0].strip()\n",
    "        matched_patterns = re.findall(r'PS\\d+', extracted_part)\n",
    "        modified_part = re.sub(r' (PS\\d+|PC|XONE|XSX|Switch|iOS|X360)', '', extracted_part)\n",
    "        modified_part2 = re.sub(r',+$', '', modified_part)\n",
    "        parts2 = modified_part2.split(',')\n",
    "        for p in parts2:\n",
    "            titles.append(re.sub(r'^ ', '', p))\n",
    "            systems.append(matched_patterns[0])\n",
    "\n",
    "games_dict['title'] = titles\n",
    "games_dict['system'] = systems\n"
   ]
  },
  {
   "cell_type": "code",
   "execution_count": 4,
   "metadata": {},
   "outputs": [],
   "source": [
    "# save games dictionary to json\n",
    "with open('Data/games.json', 'w', encoding='utf-8') as f:\n",
    "    json.dump(games_dict, f)"
   ]
  }
 ],
 "metadata": {
  "kernelspec": {
   "display_name": "Python 3",
   "language": "python",
   "name": "python3"
  },
  "language_info": {
   "codemirror_mode": {
    "name": "ipython",
    "version": 3
   },
   "file_extension": ".py",
   "mimetype": "text/x-python",
   "name": "python",
   "nbconvert_exporter": "python",
   "pygments_lexer": "ipython3",
   "version": "3.12.0"
  }
 },
 "nbformat": 4,
 "nbformat_minor": 2
}
