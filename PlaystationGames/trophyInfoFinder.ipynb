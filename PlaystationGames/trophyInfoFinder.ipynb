{
 "cells": [
  {
   "cell_type": "code",
   "execution_count": null,
   "metadata": {},
   "outputs": [],
   "source": [
    "from googlesearch import search\n",
    "import json\n",
    "import requests\n",
    "from bs4 import BeautifulSoup\n",
    "import re\n",
    "import html\n",
    "import pandas as pd"
   ]
  },
  {
   "cell_type": "code",
   "execution_count": null,
   "metadata": {},
   "outputs": [],
   "source": [
    "# load json data from operaBookmarksExtractor.ipynb\n",
    "with open('Data/games.json', 'r') as f:\n",
    "    games_dict = json.load(f)\n",
    "\t\n",
    "# find all PSNProfiles trophy list urls for each game (there can be many urls as each game could be released more than once on different system)\n",
    "psnp_urls = []\n",
    "for g in games_dict['title']:\n",
    "\tprint(\"Getting URLs for\", g)\n",
    "\tquery = g + \" PSNProfiles\"\n",
    "\tsearchResults = search(query, tld='co.in', num=8, pause=3, stop=8)\n",
    "\turls = []\n",
    "\tfor j in searchResults:\n",
    "\t\tif (\"psnprofiles.com/trophies/\" in j) and (j.count('/') == 4) and ('?' not in j):\n",
    "\t\t\turls.append(j)\n",
    "\tpsnp_urls.append(urls)\n",
    "games_dict[\"psnprofilesTrophyList\"] = psnp_urls\n",
    "\n",
    "with open('Data/games_with_urls.json', 'w', encoding='utf-8') as f:\n",
    "    json.dump(games_dict, f)\n"
   ]
  },
  {
   "cell_type": "code",
   "execution_count": null,
   "metadata": {},
   "outputs": [],
   "source": [
    "with open('Data/games_with_urls.json', 'r') as f:\n",
    "    games_dict = json.load(f)\n",
    "\n",
    "# get platinum percents, platforms and potential edition for every game\n",
    "platinum_percents = []\n",
    "platinum_platforms = []\n",
    "platinum_editions = []\n",
    "platinum_titles = []\n",
    "for i in range(len(games_dict['title'])):\n",
    "    platsForGame = []\n",
    "    platformsForGame = []\n",
    "    editionsForGame = []\n",
    "    titlesForGame = []\n",
    "    print(\"Getting platinum infos for\", games_dict['title'][i])\n",
    "    for idx, u in enumerate(games_dict[\"psnprofilesTrophyList\"][i]):\n",
    "        proc = ''\n",
    "        response = requests.get(\"http://webcache.googleusercontent.com/search?q=cache:\" + u + \"&vwsrc=1\")\n",
    "        htmlCode = html.unescape(response.text)\n",
    "        soup = BeautifulSoup(htmlCode, 'html.parser')\n",
    "\n",
    "        title = soup.find('div', class_='grow')\n",
    "        t = title.text.replace('\\n', '').replace('Games<', '')\n",
    "        stats = soup.find('div', class_='stats flex')\n",
    "        platform = soup.find('div', class_='platforms')\n",
    "        edition = soup.find('th', class_='center', colspan_='2')\n",
    "\n",
    "        for s in stats.find_all('span', class_='stat grow'):\n",
    "            if s.find('span').text == 'Platinum Achievers':\n",
    "                proc = s.text\n",
    "        if proc == '':\n",
    "            games_dict[\"psnprofilesTrophyList\"][i].remove(u)\n",
    "            continue\n",
    "        match = re.search(r'\\d+\\.\\d+', proc).group()\n",
    "\n",
    "        with open('Data/GamesHTML/' + t + '_' + str(idx) + '_' + platform.text + '.html', 'w', encoding='utf-8') as f:\n",
    "            f.write(htmlCode)\n",
    "        \n",
    "        platsForGame.append(float(match))\n",
    "        platformsForGame.append(platform.text)\n",
    "        titlesForGame.append(t)\n",
    "        if edition is None:\n",
    "            editionsForGame.append(None)\n",
    "        else:\n",
    "            editionsForGame.append(edition.text)\n",
    "        \n",
    "    platinum_percents.append(platsForGame)\n",
    "    platinum_platforms.append(platformsForGame)\n",
    "    platinum_editions.append(editionsForGame)\n",
    "    platinum_titles.append(titlesForGame)\n",
    "    \n",
    "games_dict['platinumTitles'] = platinum_titles\n",
    "games_dict['platinumPlatforms'] = platinum_platforms\n",
    "games_dict['platinumPercents'] = platinum_percents\n",
    "games_dict['platinumEditions'] = platinum_editions"
   ]
  },
  {
   "cell_type": "code",
   "execution_count": null,
   "metadata": {},
   "outputs": [],
   "source": [
    "# save games dictionary with urls and platinum percents to json\n",
    "with open(\"Data/games_with_platinum_info.json\", 'w') as f:\n",
    "    json.dump(games_dict, f)"
   ]
  },
  {
   "cell_type": "code",
   "execution_count": null,
   "metadata": {},
   "outputs": [],
   "source": [
    "# visualize dictionary as pandas' DataFrame and save it to .csv\n",
    "df = pd.DataFrame(games_dict)\n",
    "df.to_csv(\"Data/games_with_platinum_info.csv\")\n",
    "print(df)"
   ]
  }
 ],
 "metadata": {
  "kernelspec": {
   "display_name": "Python 3",
   "language": "python",
   "name": "python3"
  },
  "language_info": {
   "codemirror_mode": {
    "name": "ipython",
    "version": 3
   },
   "file_extension": ".py",
   "mimetype": "text/x-python",
   "name": "python",
   "nbconvert_exporter": "python",
   "pygments_lexer": "ipython3",
   "version": "3.12.0"
  }
 },
 "nbformat": 4,
 "nbformat_minor": 2
}
