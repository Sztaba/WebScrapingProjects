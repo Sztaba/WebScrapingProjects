{
 "cells": [
  {
   "cell_type": "code",
   "execution_count": 45,
   "metadata": {},
   "outputs": [],
   "source": [
    "import requests\n",
    "from selenium import webdriver\n",
    "import time\n",
    "from bs4 import BeautifulSoup\n",
    "from webdriver_manager.chrome import ChromeDriverManager"
   ]
  },
  {
   "cell_type": "code",
   "execution_count": 56,
   "metadata": {},
   "outputs": [],
   "source": [
    "def get_all_platinumed_titles_for_profile(profile_name):\n",
    "    url = \"https://psnprofiles.com/\"\n",
    "    url += profile_name\n",
    "    url += \"/log?type=platinum\"\n",
    "    options = webdriver.ChromeOptions()\n",
    "    options.add_argument('--start-maximized')\n",
    "    options.add_argument('--disable-extensions')\n",
    "    options.add_argument('--headless')\n",
    "    driver = webdriver.Chrome(ChromeDriverManager().install(), options=options)\n",
    "    html = driver.get(url).page_source\n",
    "    print(\"Profile has been found.\")\n",
    "    soup = BeautifulSoup(html, 'html.parser')\n",
    "    pagination = soup.find('ul', class_=\"pagination\").find_all('a', class_=\"typo-button\")\n",
    "    pages = []\n",
    "    for p in pagination:\n",
    "        print(p.text)\n",
    "        pages.append(int(p.text))\n",
    "    last_page = pages.max()\n",
    "    games = []\n",
    "    for i in range(last_page):\n",
    "        # html = requests.get(url + \"?page=\" + str(i+1))\n",
    "        html = driver.get(url + \"?page=\" + str(i+1)).page_source\n",
    "        soup = BeautifulSoup(html, 'html.parser')\n",
    "        gamesSub = []\n",
    "        img_tags = soup.find('table', class_='zebra').find_all('img', class_='game')\n",
    "        for im in img_tags:\n",
    "            gamesSub.append(im.get('title'))\n",
    "        games.extend(gamesSub)\n",
    "    return games"
   ]
  },
  {
   "cell_type": "code",
   "execution_count": 57,
   "metadata": {},
   "outputs": [],
   "source": [
    "# Enter your profile name\n",
    "profile_name = \"Hublin_POL\""
   ]
  },
  {
   "cell_type": "code",
   "execution_count": 58,
   "metadata": {},
   "outputs": [
    {
     "name": "stderr",
     "output_type": "stream",
     "text": [
      "C:\\Users\\huber\\AppData\\Local\\Temp\\ipykernel_13020\\2846813338.py:9: DeprecationWarning: executable_path has been deprecated, please pass in a Service object\n",
      "  driver = webdriver.Chrome(ChromeDriverManager().install(), options=options)\n"
     ]
    },
    {
     "ename": "AttributeError",
     "evalue": "'NoneType' object has no attribute 'page_source'",
     "output_type": "error",
     "traceback": [
      "\u001b[1;31m---------------------------------------------------------------------------\u001b[0m",
      "\u001b[1;31mAttributeError\u001b[0m                            Traceback (most recent call last)",
      "Cell \u001b[1;32mIn[58], line 2\u001b[0m\n\u001b[0;32m      1\u001b[0m \u001b[38;5;66;03m# Get HTML code for given profile name\u001b[39;00m\n\u001b[1;32m----> 2\u001b[0m games \u001b[38;5;241m=\u001b[39m \u001b[43mget_all_platinumed_titles_for_profile\u001b[49m\u001b[43m(\u001b[49m\u001b[43mprofile_name\u001b[49m\u001b[43m)\u001b[49m\n\u001b[0;32m      3\u001b[0m \u001b[38;5;28;01mwith\u001b[39;00m \u001b[38;5;28mopen\u001b[39m(\u001b[38;5;124m\"\u001b[39m\u001b[38;5;124mData/psnprofile\u001b[39m\u001b[38;5;124m\"\u001b[39m \u001b[38;5;241m+\u001b[39m profile_name \u001b[38;5;241m+\u001b[39m \u001b[38;5;124m\"\u001b[39m\u001b[38;5;124m-games.txt\u001b[39m\u001b[38;5;124m\"\u001b[39m, \u001b[38;5;124m'\u001b[39m\u001b[38;5;124mw\u001b[39m\u001b[38;5;124m'\u001b[39m, encoding\u001b[38;5;241m=\u001b[39m\u001b[38;5;124m'\u001b[39m\u001b[38;5;124mutf-8\u001b[39m\u001b[38;5;124m'\u001b[39m) \u001b[38;5;28;01mas\u001b[39;00m f:\n\u001b[0;32m      4\u001b[0m     f\u001b[38;5;241m.\u001b[39mwrite(games)\n",
      "Cell \u001b[1;32mIn[56], line 10\u001b[0m, in \u001b[0;36mget_all_platinumed_titles_for_profile\u001b[1;34m(profile_name)\u001b[0m\n\u001b[0;32m      8\u001b[0m options\u001b[38;5;241m.\u001b[39madd_argument(\u001b[38;5;124m'\u001b[39m\u001b[38;5;124m--headless\u001b[39m\u001b[38;5;124m'\u001b[39m)\n\u001b[0;32m      9\u001b[0m driver \u001b[38;5;241m=\u001b[39m webdriver\u001b[38;5;241m.\u001b[39mChrome(ChromeDriverManager()\u001b[38;5;241m.\u001b[39minstall(), options\u001b[38;5;241m=\u001b[39moptions)\n\u001b[1;32m---> 10\u001b[0m html \u001b[38;5;241m=\u001b[39m \u001b[43mdriver\u001b[49m\u001b[38;5;241;43m.\u001b[39;49m\u001b[43mget\u001b[49m\u001b[43m(\u001b[49m\u001b[43murl\u001b[49m\u001b[43m)\u001b[49m\u001b[38;5;241;43m.\u001b[39;49m\u001b[43mpage_source\u001b[49m\n\u001b[0;32m     11\u001b[0m \u001b[38;5;28mprint\u001b[39m(\u001b[38;5;124m\"\u001b[39m\u001b[38;5;124mProfile has been found.\u001b[39m\u001b[38;5;124m\"\u001b[39m)\n\u001b[0;32m     12\u001b[0m soup \u001b[38;5;241m=\u001b[39m BeautifulSoup(html, \u001b[38;5;124m'\u001b[39m\u001b[38;5;124mhtml.parser\u001b[39m\u001b[38;5;124m'\u001b[39m)\n",
      "\u001b[1;31mAttributeError\u001b[0m: 'NoneType' object has no attribute 'page_source'"
     ]
    }
   ],
   "source": [
    "# Get HTML code for given profile name\n",
    "games = get_all_platinumed_titles_for_profile(profile_name)\n",
    "with open(\"Data/psnprofile\" + profile_name + \"-games.txt\", 'w', encoding='utf-8') as f:\n",
    "    f.write(games)"
   ]
  },
  {
   "cell_type": "code",
   "execution_count": null,
   "metadata": {},
   "outputs": [],
   "source": [
    "# Read HTML code from the file (it's an option when you don't want to generate HTML again)\n",
    "with open(\"Data/psnprofile\" + profile_name + \".html\", 'r', encoding='utf-8') as f:\n",
    "    psnprofile_html = f.read()"
   ]
  },
  {
   "cell_type": "code",
   "execution_count": null,
   "metadata": {},
   "outputs": [],
   "source": [
    "# Find titles of all games on given PSNProfiles profile HTML\n",
    "soup = BeautifulSoup(psnprofile_html, 'html.parser')\n",
    "# soup.find_all('a', class_='title')\n",
    "soup = soup.find('table', id='gamesTable')\n",
    "a_tags = soup.find_all('a', class_='title')\n",
    "\n",
    "games = []\n",
    "for a in a_tags:\n",
    "    games.append(a.text)\n",
    "\n",
    "games"
   ]
  },
  {
   "cell_type": "code",
   "execution_count": null,
   "metadata": {},
   "outputs": [],
   "source": []
  }
 ],
 "metadata": {
  "kernelspec": {
   "display_name": "Python 3",
   "language": "python",
   "name": "python3"
  },
  "language_info": {
   "codemirror_mode": {
    "name": "ipython",
    "version": 3
   },
   "file_extension": ".py",
   "mimetype": "text/x-python",
   "name": "python",
   "nbconvert_exporter": "python",
   "pygments_lexer": "ipython3",
   "version": "3.10.6"
  }
 },
 "nbformat": 4,
 "nbformat_minor": 2
}
